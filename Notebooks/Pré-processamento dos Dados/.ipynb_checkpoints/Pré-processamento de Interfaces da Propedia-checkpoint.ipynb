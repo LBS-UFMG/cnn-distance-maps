{
 "cells": [
  {
   "cell_type": "code",
   "execution_count": 3,
   "id": "23b43350",
   "metadata": {},
   "outputs": [],
   "source": [
    "dir_base = \"./../\""
   ]
  },
  {
   "cell_type": "markdown",
   "id": "48096a02",
   "metadata": {},
   "source": [
    "#### 1. Importação de bibliotecas"
   ]
  },
  {
   "cell_type": "code",
   "execution_count": 4,
   "id": "079f984f",
   "metadata": {},
   "outputs": [],
   "source": [
    "import os, shutil\n",
    "from os import listdir, mkdir"
   ]
  },
  {
   "cell_type": "code",
   "execution_count": null,
   "id": "2ae905bc",
   "metadata": {},
   "outputs": [],
   "source": [
    "import numpy as np\n",
    "from matplotlib import pyplot as plt"
   ]
  },
  {
   "cell_type": "code",
   "execution_count": null,
   "id": "0cc964f1",
   "metadata": {},
   "outputs": [],
   "source": [
    "import pandas as pd"
   ]
  },
  {
   "cell_type": "code",
   "execution_count": null,
   "id": "559174a3",
   "metadata": {},
   "outputs": [],
   "source": [
    "from PIL import Image\n",
    "from PIL import ImageFilter\n",
    "import cv2\n",
    "import random"
   ]
  },
  {
   "cell_type": "markdown",
   "id": "4d14390a",
   "metadata": {},
   "source": [
    "#### 2. Declaração de funções"
   ]
  },
  {
   "cell_type": "code",
   "execution_count": 49,
   "id": "2bad9615",
   "metadata": {},
   "outputs": [],
   "source": [
    "def adiciona_padding():\n",
    "    \n",
    "    for pasta in listdir(dir_base+\"mapas/\"):\n",
    "        for arquivo in listdir(dir_base+\"mapas/\"+pasta):\n",
    "            \n",
    "            imagem = cv2.imread(dir_base+\"mapas/\"+pasta+'/'+arquivo)\n",
    "            imagem_convertida = cv2.cvtColor(imagem, cv2.COLOR_BGR2RGB)\n",
    "            shape = imagem_convertida.shape\n",
    "            add_x = int((224-shape[0])/2)\n",
    "            add_y = int((224-shape[1])/2)\n",
    "            mapa_distancias = np.zeros((224,224,3),dtype = np.uint8)\n",
    "            for i in range(3):\n",
    "                mapa_distancias[:,:,i] = np.pad(imagem_convertida[:,:,i],((add_x,add_x),(add_y,add_y)),'constant', constant_values = (0))\n",
    "            \n",
    "            plt.tick_params(left=False,\n",
    "                    bottom=False,\n",
    "                    labelleft=False,\n",
    "                    labelbottom=False)\n",
    "            \n",
    "            # plt.imshow(mapa_distancias)\n",
    "            plt.imsave(dir_base+\"mapas/\"+pasta+'/'+arquivo, mapa_distancias)\n",
    "   \n",
    "    return"
   ]
  },
  {
   "cell_type": "code",
   "execution_count": 73,
   "id": "c92d9950",
   "metadata": {},
   "outputs": [],
   "source": [
    "def resize_maps():\n",
    "    \n",
    "    width = 220\n",
    "    height = 220\n",
    "    \n",
    "    for pasta in listdir(dir_base+\"mapas/\"):\n",
    "        for file in listdir(dir_base+\"mapas/\"+pasta):\n",
    "    \n",
    "            dm = cv2.imread(dir_base+\"mapas/\"+pasta+\"/\"+file)\n",
    "\n",
    "            new_dm = cv2.resize(dm, (width, height), interpolation= cv2.INTER_LINEAR)\n",
    "\n",
    "            cv2.imwrite(dir_base+\"mapas/\"+pasta+\"/\"+file, new_dm)\n",
    "    \n",
    "    return"
   ]
  },
  {
   "cell_type": "code",
   "execution_count": 74,
   "id": "4392ed51",
   "metadata": {},
   "outputs": [],
   "source": [
    "def aumento_brilho(file, pasta):\n",
    "    \n",
    "    dm = cv2.imread(dir_base+\"mapas/\"+pasta+\"/\"+file)\n",
    "    \n",
    "    nome_arquivo = file.split('.')[0]\n",
    "\n",
    "    value = random.uniform(1.0, 1.2)\n",
    "    hsv = cv2.cvtColor(dm, cv2.COLOR_BGR2HSV)\n",
    "    hsv = np.array(hsv, dtype = np.float64)\n",
    "    hsv[:,:,1] = hsv[:,:,1]*value\n",
    "    hsv[:,:,1][hsv[:,:,1]>255]  = 255\n",
    "    hsv[:,:,2] = hsv[:,:,2]*value \n",
    "    hsv[:,:,2][hsv[:,:,2]>255]  = 255\n",
    "    hsv = np.array(hsv, dtype = np.uint8)\n",
    "    dm = cv2.cvtColor(hsv, cv2.COLOR_HSV2BGR)\n",
    "\n",
    "    cv2.imwrite(dir_base+\"mapas/\"+pasta+\"/\"+nome_arquivo+\"_bi.png\", dm)\n",
    "    \n",
    "    return"
   ]
  },
  {
   "cell_type": "code",
   "execution_count": 75,
   "id": "078740b8",
   "metadata": {},
   "outputs": [],
   "source": [
    "def decresce_brilho(file, pasta):\n",
    "    \n",
    "    dm = cv2.imread(dir_base+\"mapas/\"+pasta+\"/\"+file)\n",
    "    \n",
    "    nome_arquivo = file.split('.')[0]\n",
    "\n",
    "    value = random.uniform(0.8, 1.0)\n",
    "    hsv = cv2.cvtColor(dm, cv2.COLOR_BGR2HSV)\n",
    "    hsv = np.array(hsv, dtype = np.float64)\n",
    "    hsv[:,:,1] = hsv[:,:,1]*value\n",
    "    hsv[:,:,1][hsv[:,:,1]>255]  = 255\n",
    "    hsv[:,:,2] = hsv[:,:,2]*value \n",
    "    hsv[:,:,2][hsv[:,:,2]>255]  = 255\n",
    "    hsv = np.array(hsv, dtype = np.uint8)\n",
    "    dm = cv2.cvtColor(hsv, cv2.COLOR_HSV2BGR)\n",
    "\n",
    "    cv2.imwrite(dir_base+\"mapas/\"+pasta+\"/\"+nome_arquivo+\"_bd.png\", dm)\n",
    "    \n",
    "    return"
   ]
  },
  {
   "cell_type": "code",
   "execution_count": 53,
   "id": "fe2e4ee0",
   "metadata": {},
   "outputs": [],
   "source": [
    "def filtro_sharpen(file, pasta):\n",
    "    \n",
    "    nome_arquivo = file.split('.')[0]\n",
    "    \n",
    "    obj = Image.open(dir_base+\"mapas/\"+pasta+\"/\"+file)\n",
    "    im = obj.filter(ImageFilter.SHARPEN)\n",
    "\n",
    "    im.save(dir_base+\"mapas/\"+pasta+\"/\"+nome_arquivo+\"_shp.png\")\n",
    "    \n",
    "    return"
   ]
  },
  {
   "cell_type": "code",
   "execution_count": 54,
   "id": "8d22a354",
   "metadata": {},
   "outputs": [],
   "source": [
    "def data_augmentation():\n",
    "    \n",
    "    for pasta in listdir(dir_base+\"mapas/\"):\n",
    "        for file in listdir(dir_base+\"mapas/\"+pasta):\n",
    "            \n",
    "            # 1. alteração do brilho\n",
    "        \n",
    "            # 1.1 aumento de intensidade\n",
    "            aumento_brilho(file, pasta)\n",
    "            \n",
    "            # 1.2 decrescimento de intensidade\n",
    "            decresce_brilho(file, pasta)            \n",
    "            \n",
    "            # 2. filtro de Sharpen\n",
    "            filtro_sharpen(file, pasta)\n",
    "            \n",
    "    return"
   ]
  },
  {
   "cell_type": "code",
   "execution_count": 55,
   "id": "5bfc6cae",
   "metadata": {},
   "outputs": [],
   "source": [
    "def calcula_distancias(coords_pep, coords_prot, classe, arquivo):\n",
    "    \n",
    "    nome_arquivo = arquivo.split('.')[0]\n",
    "    \n",
    "    x = np.shape(coords_prot)[0]\n",
    "    y = np.shape(coords_pep)[0]\n",
    "\n",
    "    m = np.zeros(shape=(y,x))\n",
    "        \n",
    "    i=0\n",
    "    for a in coords_pep:\n",
    "        m[i] = list(map(lambda b: np.linalg.norm(a-b), coords_prot))\n",
    "        i+=1\n",
    "    \n",
    "    if not os.path.isdir(dir_base+'mapas/'+classe):\n",
    "        mkdir(dir_base+'mapas/'+classe)\n",
    "        \n",
    "    plt.imsave(dir_base+'mapas/'+classe+'/'+nome_arquivo+'.png', m)\n",
    "    \n",
    "    return   "
   ]
  },
  {
   "cell_type": "code",
   "execution_count": 56,
   "id": "e35cb29b",
   "metadata": {},
   "outputs": [],
   "source": [
    "def ler_coordenadas():\n",
    "    \n",
    "    for pasta in listdir(dir_base+\"pdbs/\"):\n",
    "        for file in listdir(dir_base+\"pdbs/\"+pasta):\n",
    "\n",
    "            pdb = open(dir_base+\"pdbs/\"+pasta+\"/\"+file, \"rt\")\n",
    "            linhas = pdb.readlines()\n",
    "\n",
    "            # Peptídeo\n",
    "            cadeia_pep = (file.split(\".\")[0]).split(\"_\")[1]\n",
    "            peptideo = list(filter(lambda l: l[21:22]==cadeia_pep, linhas))\n",
    "            coords_pep = np.array(list(map(lambda ca: [float(ca[31:38]), float(ca[39:46]), float(ca[47:54])], peptideo)))\n",
    "\n",
    "            # Proteína\n",
    "            cadeia_prot = (file.split(\".\")[0]).split(\"_\")[2]\n",
    "            proteina = list(filter(lambda l: l[21:22]==cadeia_prot, linhas))\n",
    "            coords_prot = np.array(list(map(lambda ca: [float(ca[31:38]), float(ca[39:46]), float(ca[47:54])], proteina)))\n",
    "\n",
    "            calcula_distancias(coords_pep, coords_prot, pasta, file)\n",
    "    \n",
    "    return"
   ]
  },
  {
   "cell_type": "code",
   "execution_count": 61,
   "id": "70228e3c",
   "metadata": {},
   "outputs": [],
   "source": [
    "def selecionar_interfaces():\n",
    "      \n",
    "    for pasta in listdir(dir_base+\"interfaces/\"):\n",
    "        for file in listdir(dir_base+\"interfaces/\"+pasta):\n",
    "\n",
    "            pdb = open(dir_base+\"interfaces/\"+pasta+\"/\"+file, \"rt\")\n",
    "            linhas = pdb.readlines()\n",
    "\n",
    "            # Peptídeo\n",
    "            cadeia_pep = (file.split(\".\")[0]).split(\"_\")[1]\n",
    "            peptideo = list(filter(lambda l: l[21:22]==cadeia_pep, linhas))\n",
    "\n",
    "            # Proteína\n",
    "            cadeia_prot = (file.split(\".\")[0]).split(\"_\")[2]\n",
    "            proteina = list(filter(lambda l: l[21:22]==cadeia_prot, linhas))\n",
    "\n",
    "            pdb.close()\n",
    "            \n",
    "            if not os.path.isdir(dir_base+'pdbs/'+pasta):\n",
    "                mkdir(dir_base+'pdbs/'+pasta)\n",
    "            \n",
    "            if len(proteina)>len(peptideo) and len(proteina) < 220:\n",
    "                shutil.move(os.path.join(dir_base,'interfaces',pasta,file),os.path.join(dir_base,'pdbs',pasta,file))\n",
    "    \n",
    "    return"
   ]
  },
  {
   "cell_type": "code",
   "execution_count": 1,
   "id": "8046b8e4",
   "metadata": {},
   "outputs": [],
   "source": [
    "def classificar_complexos():\n",
    "    \n",
    "    interfaces = listdir(dir_base+'complexos/')\n",
    "    \n",
    "    df = pd.read_csv(dir_base+'saida2.csv')\n",
    "    \n",
    "    print(df.cluster.count())\n",
    "    \n",
    "    for i in range(df.cluster.count()-1):\n",
    "    \n",
    "        classe = df['cluster'][i]\n",
    "        peptideo = df['peptide'][i].split(' ')[1].replace('(','').replace(')','').replace(':','_')\n",
    "        \n",
    "        if not os.path.isdir(dir_base+'interfaces/'+classe):\n",
    "            mkdir(dir_base+'interfaces/'+classe)\n",
    "    \n",
    "        files = list(filter(lambda x: peptideo in x, interfaces))\n",
    "            \n",
    "#         for f in files:\n",
    "#             if os.path.isfile(os.path.join(dir_base,'complexos',f)):\n",
    "#                 shutil.move(os.path.join(dir_base,'complexos',f),os.path.join(dir_base,'interfaces',classe,f))\n",
    "#                 interfaces.remove(f)\n",
    "    \n",
    "    return"
   ]
  },
  {
   "cell_type": "code",
   "execution_count": 2,
   "id": "e2b20c60",
   "metadata": {},
   "outputs": [
    {
     "ename": "NameError",
     "evalue": "name 'listdir' is not defined",
     "output_type": "error",
     "traceback": [
      "\u001b[1;31m---------------------------------------------------------------------------\u001b[0m",
      "\u001b[1;31mNameError\u001b[0m                                 Traceback (most recent call last)",
      "\u001b[1;32m~\\AppData\\Local\\Temp\\ipykernel_102176\\1773880158.py\u001b[0m in \u001b[0;36m<module>\u001b[1;34m\u001b[0m\n\u001b[1;32m----> 1\u001b[1;33m \u001b[0mclassificar_complexos\u001b[0m\u001b[1;33m(\u001b[0m\u001b[1;33m)\u001b[0m\u001b[1;33m\u001b[0m\u001b[1;33m\u001b[0m\u001b[0m\n\u001b[0m",
      "\u001b[1;32m~\\AppData\\Local\\Temp\\ipykernel_102176\\1001627377.py\u001b[0m in \u001b[0;36mclassificar_complexos\u001b[1;34m()\u001b[0m\n\u001b[0;32m      1\u001b[0m \u001b[1;32mdef\u001b[0m \u001b[0mclassificar_complexos\u001b[0m\u001b[1;33m(\u001b[0m\u001b[1;33m)\u001b[0m\u001b[1;33m:\u001b[0m\u001b[1;33m\u001b[0m\u001b[1;33m\u001b[0m\u001b[0m\n\u001b[0;32m      2\u001b[0m \u001b[1;33m\u001b[0m\u001b[0m\n\u001b[1;32m----> 3\u001b[1;33m     \u001b[0minterfaces\u001b[0m \u001b[1;33m=\u001b[0m \u001b[0mlistdir\u001b[0m\u001b[1;33m(\u001b[0m\u001b[0mdir_base\u001b[0m\u001b[1;33m+\u001b[0m\u001b[1;34m'complexos/'\u001b[0m\u001b[1;33m)\u001b[0m\u001b[1;33m\u001b[0m\u001b[1;33m\u001b[0m\u001b[0m\n\u001b[0m\u001b[0;32m      4\u001b[0m \u001b[1;33m\u001b[0m\u001b[0m\n\u001b[0;32m      5\u001b[0m     \u001b[0mdf\u001b[0m \u001b[1;33m=\u001b[0m \u001b[0mpd\u001b[0m\u001b[1;33m.\u001b[0m\u001b[0mread_csv\u001b[0m\u001b[1;33m(\u001b[0m\u001b[0mdir_base\u001b[0m\u001b[1;33m+\u001b[0m\u001b[1;34m'saida2.csv'\u001b[0m\u001b[1;33m)\u001b[0m\u001b[1;33m\u001b[0m\u001b[1;33m\u001b[0m\u001b[0m\n",
      "\u001b[1;31mNameError\u001b[0m: name 'listdir' is not defined"
     ]
    }
   ],
   "source": [
    "classificar_complexos()"
   ]
  },
  {
   "cell_type": "code",
   "execution_count": 62,
   "id": "78184c97",
   "metadata": {},
   "outputs": [],
   "source": [
    "selecionar_interfaces()"
   ]
  },
  {
   "cell_type": "code",
   "execution_count": 63,
   "id": "47fd7bdf",
   "metadata": {},
   "outputs": [],
   "source": [
    "ler_coordenadas()"
   ]
  },
  {
   "cell_type": "code",
   "execution_count": 65,
   "id": "94d30faa",
   "metadata": {},
   "outputs": [],
   "source": [
    "resize_maps()"
   ]
  },
  {
   "cell_type": "code",
   "execution_count": 76,
   "id": "0e1837cf",
   "metadata": {},
   "outputs": [],
   "source": [
    "data_augmentation()"
   ]
  },
  {
   "cell_type": "code",
   "execution_count": 77,
   "id": "88fdd10c",
   "metadata": {},
   "outputs": [
    {
     "data": {
      "image/png": "[encoded data removed]",
      "text/plain": [
       "<Figure size 640x480 with 1 Axes>"
      ]
     },
     "metadata": {},
     "output_type": "display_data"
    }
   ],
   "source": [
    "adiciona_padding()"
   ]
  },
  {
   "cell_type": "code",
   "execution_count": null,
   "id": "4e2b774a",
   "metadata": {},
   "outputs": [],
   "source": []
  }
 ],
 "metadata": {
  "kernelspec": {
   "display_name": "Python 3 (ipykernel)",
   "language": "python",
   "name": "python3"
  },
  "language_info": {
   "codemirror_mode": {
    "name": "ipython",
    "version": 3
   },
   "file_extension": ".py",
   "mimetype": "text/x-python",
   "name": "python",
   "nbconvert_exporter": "python",
   "pygments_lexer": "ipython3",
   "version": "3.9.13"
  }
 },
 "nbformat": 4,
 "nbformat_minor": 5
}
