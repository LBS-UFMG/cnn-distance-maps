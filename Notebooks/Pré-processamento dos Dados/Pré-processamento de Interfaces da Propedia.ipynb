{
 "cells": [
  {
   "cell_type": "code",
   "execution_count": 1,
   "id": "23b43350",
   "metadata": {},
   "outputs": [],
   "source": [
    "dir_base = \"./../../\""
   ]
  },
  {
   "cell_type": "markdown",
   "id": "48096a02",
   "metadata": {},
   "source": [
    "#### 1. Importação de bibliotecas"
   ]
  },
  {
   "cell_type": "code",
   "execution_count": 2,
   "id": "079f984f",
   "metadata": {},
   "outputs": [],
   "source": [
    "import os, shutil\n",
    "from os import listdir, mkdir"
   ]
  },
  {
   "cell_type": "code",
   "execution_count": 3,
   "id": "2ae905bc",
   "metadata": {},
   "outputs": [],
   "source": [
    "import numpy as np\n",
    "from matplotlib import pyplot as plt"
   ]
  },
  {
   "cell_type": "code",
   "execution_count": 4,
   "id": "0cc964f1",
   "metadata": {},
   "outputs": [],
   "source": [
    "import pandas as pd"
   ]
  },
  {
   "cell_type": "code",
   "execution_count": 5,
   "id": "559174a3",
   "metadata": {},
   "outputs": [],
   "source": [
    "from PIL import Image\n",
    "from PIL import ImageFilter\n",
    "import cv2\n",
    "import random"
   ]
  },
  {
   "cell_type": "markdown",
   "id": "4d14390a",
   "metadata": {},
   "source": [
    "#### 2. Declaração de funções"
   ]
  },
  {
   "cell_type": "code",
   "execution_count": 6,
   "id": "2bad9615",
   "metadata": {},
   "outputs": [],
   "source": [
    "def adiciona_padding():\n",
    "    \n",
    "    for pasta in listdir(dir_base+\"mapas/\"):\n",
    "        for arquivo in listdir(dir_base+\"mapas/\"+pasta):\n",
    "            \n",
    "            imagem = cv2.imread(dir_base+\"mapas/\"+pasta+'/'+arquivo)\n",
    "            imagem_convertida = cv2.cvtColor(imagem, cv2.COLOR_BGR2RGB)\n",
    "            shape = imagem_convertida.shape\n",
    "            add_x = int((224-shape[0])/2)\n",
    "            add_y = int((224-shape[1])/2)\n",
    "            mapa_distancias = np.zeros((224,224,3),dtype = np.uint8)\n",
    "            for i in range(3):\n",
    "                mapa_distancias[:,:,i] = np.pad(imagem_convertida[:,:,i],((add_x,add_x),(add_y,add_y)),'constant', constant_values = (0))\n",
    "            \n",
    "            plt.tick_params(left=False,\n",
    "                    bottom=False,\n",
    "                    labelleft=False,\n",
    "                    labelbottom=False)\n",
    "            \n",
    "            plt.imsave(dir_base+\"mapas/\"+pasta+'/'+arquivo, mapa_distancias)\n",
    "   \n",
    "    return"
   ]
  },
  {
   "cell_type": "code",
   "execution_count": 7,
   "id": "c92d9950",
   "metadata": {},
   "outputs": [],
   "source": [
    "def resize_maps():\n",
    "    \n",
    "    for pasta in listdir(dir_base+\"mapas/\"):\n",
    "        for file in listdir(dir_base+\"mapas/\"+pasta):\n",
    "    \n",
    "            dm = cv2.imread(dir_base+\"mapas/\"+pasta+\"/\"+file)\n",
    "\n",
    "            new_dm = cv2.resize(dm, (64, 64), interpolation= cv2.INTER_LINEAR)\n",
    "\n",
    "            cv2.imwrite(dir_base+\"mapas/\"+pasta+\"/\"+file, new_dm)\n",
    "    \n",
    "    return"
   ]
  },
  {
   "cell_type": "code",
   "execution_count": 8,
   "id": "4392ed51",
   "metadata": {},
   "outputs": [],
   "source": [
    "def aumento_brilho(file, pasta):\n",
    "    \n",
    "    dm = cv2.imread(dir_base+\"mapas/\"+pasta+\"/\"+file)\n",
    "    \n",
    "    nome_arquivo = file.split('.')[0]\n",
    "\n",
    "    value = random.uniform(1.0, 1.2)\n",
    "    hsv = cv2.cvtColor(dm, cv2.COLOR_BGR2HSV)\n",
    "    hsv = np.array(hsv, dtype = np.float64)\n",
    "    hsv[:,:,1] = hsv[:,:,1]*value\n",
    "    hsv[:,:,1][hsv[:,:,1]>255]  = 255\n",
    "    hsv[:,:,2] = hsv[:,:,2]*value \n",
    "    hsv[:,:,2][hsv[:,:,2]>255]  = 255\n",
    "    hsv = np.array(hsv, dtype = np.uint8)\n",
    "    dm = cv2.cvtColor(hsv, cv2.COLOR_HSV2BGR)\n",
    "\n",
    "    cv2.imwrite(dir_base+\"mapas/\"+pasta+\"/\"+nome_arquivo+\"_bi.png\", dm)\n",
    "    \n",
    "    return"
   ]
  },
  {
   "cell_type": "code",
   "execution_count": 9,
   "id": "078740b8",
   "metadata": {},
   "outputs": [],
   "source": [
    "def decresce_brilho(file, pasta):\n",
    "    \n",
    "    dm = cv2.imread(dir_base+\"mapas/\"+pasta+\"/\"+file)\n",
    "    \n",
    "    nome_arquivo = file.split('.')[0]\n",
    "\n",
    "    value = random.uniform(0.8, 1.0)\n",
    "    hsv = cv2.cvtColor(dm, cv2.COLOR_BGR2HSV)\n",
    "    hsv = np.array(hsv, dtype = np.float64)\n",
    "    hsv[:,:,1] = hsv[:,:,1]*value\n",
    "    hsv[:,:,1][hsv[:,:,1]>255]  = 255\n",
    "    hsv[:,:,2] = hsv[:,:,2]*value \n",
    "    hsv[:,:,2][hsv[:,:,2]>255]  = 255\n",
    "    hsv = np.array(hsv, dtype = np.uint8)\n",
    "    dm = cv2.cvtColor(hsv, cv2.COLOR_HSV2BGR)\n",
    "\n",
    "    cv2.imwrite(dir_base+\"mapas/\"+pasta+\"/\"+nome_arquivo+\"_bd.png\", dm)\n",
    "    \n",
    "    return"
   ]
  },
  {
   "cell_type": "code",
   "execution_count": 10,
   "id": "fe2e4ee0",
   "metadata": {},
   "outputs": [],
   "source": [
    "def filtro_sharpen(file, pasta):\n",
    "    \n",
    "    nome_arquivo = file.split('.')[0]\n",
    "    \n",
    "    obj = Image.open(dir_base+\"mapas/\"+pasta+\"/\"+file)\n",
    "    im = obj.filter(ImageFilter.SHARPEN)\n",
    "\n",
    "    im.save(dir_base+\"mapas/\"+pasta+\"/\"+nome_arquivo+\"_shp.png\")\n",
    "    \n",
    "    return"
   ]
  },
  {
   "cell_type": "code",
   "execution_count": 19,
   "id": "8d22a354",
   "metadata": {},
   "outputs": [],
   "source": [
    "def data_augmentation():\n",
    "    \n",
    "    for pasta in listdir(dir_base+\"mapas/\"):\n",
    "        for file in listdir(dir_base+\"mapas/\"+pasta):\n",
    "            \n",
    "            # 1. alteração do brilho\n",
    "        \n",
    "            # 1.1 aumento de intensidade\n",
    "            aumento_brilho(file, pasta)\n",
    "            \n",
    "            # 1.2 decrescimento de intensidade\n",
    "            decresce_brilho(file, pasta)            \n",
    "            \n",
    "            # 2. filtro de Sharpen\n",
    "            filtro_sharpen(file, pasta)\n",
    "            \n",
    "    return"
   ]
  },
  {
   "cell_type": "code",
   "execution_count": 12,
   "id": "5bfc6cae",
   "metadata": {},
   "outputs": [],
   "source": [
    "def calcula_distancias(coords_pep, coords_prot, classe, arquivo):\n",
    "    \n",
    "    nome_arquivo = arquivo.split('.')[0]\n",
    "    \n",
    "    x = np.shape(coords_prot)[0]\n",
    "    y = np.shape(coords_pep)[0]\n",
    "\n",
    "    m = np.zeros(shape=(y,x))\n",
    "        \n",
    "    i=0\n",
    "    for a in coords_pep:\n",
    "        m[i] = list(map(lambda b: np.linalg.norm(a-b), coords_prot))\n",
    "        i+=1\n",
    "    \n",
    "    if not os.path.isdir(dir_base+'mapas/'+classe):\n",
    "        mkdir(dir_base+'mapas/'+classe)\n",
    "        \n",
    "    plt.imsave(dir_base+'mapas/'+classe+'/'+nome_arquivo+'.png', m)\n",
    "    \n",
    "    return   "
   ]
  },
  {
   "cell_type": "code",
   "execution_count": 13,
   "id": "e35cb29b",
   "metadata": {},
   "outputs": [],
   "source": [
    "def ler_coordenadas():\n",
    "    \n",
    "    for pasta in listdir(dir_base+\"pdbs/\"):\n",
    "        for file in listdir(dir_base+\"pdbs/\"+pasta):\n",
    "\n",
    "            pdb = open(dir_base+\"pdbs/\"+pasta+\"/\"+file, \"rt\")\n",
    "            linhas = pdb.readlines()\n",
    "\n",
    "            # Peptídeo\n",
    "            cadeia_pep = (file.split(\".\")[0]).split(\"_\")[1]\n",
    "            peptideo = list(filter(lambda l: l[13:15]==\"CA\" and l[21:22]==cadeia_pep, linhas))\n",
    "            coords_pep = np.array(list(map(lambda ca: [float(ca[31:38]), float(ca[39:46]), float(ca[47:54])], peptideo)))\n",
    "\n",
    "            # Proteína\n",
    "            cadeia_prot = (file.split(\".\")[0]).split(\"_\")[2]\n",
    "            proteina = list(filter(lambda l: l[13:15]==\"CA\" and l[21:22]==cadeia_prot, linhas))\n",
    "            coords_prot = np.array(list(map(lambda ca: [float(ca[31:38]), float(ca[39:46]), float(ca[47:54])], proteina)))\n",
    "\n",
    "            calcula_distancias(coords_pep, coords_prot, pasta, file)\n",
    "    \n",
    "    return"
   ]
  },
  {
   "cell_type": "code",
   "execution_count": 14,
   "id": "70228e3c",
   "metadata": {},
   "outputs": [],
   "source": [
    "def selecionar_interfaces():\n",
    "      \n",
    "    for pasta in listdir(dir_base+\"interfaces/\"):\n",
    "        for file in listdir(dir_base+\"interfaces/\"+pasta):\n",
    "\n",
    "            pdb = open(dir_base+\"interfaces/\"+pasta+\"/\"+file, \"rt\")\n",
    "            linhas = pdb.readlines()\n",
    "\n",
    "            # Peptídeo\n",
    "            cadeia_pep = (file.split(\".\")[0]).split(\"_\")[1]\n",
    "            peptideo = list(filter(lambda l: l[13:15]==\"CA\" and l[21:22]==cadeia_pep, linhas))\n",
    "\n",
    "            # Proteína\n",
    "            cadeia_prot = (file.split(\".\")[0]).split(\"_\")[2]\n",
    "            proteina = list(filter(lambda l: l[13:15]==\"CA\" and l[21:22]==cadeia_prot, linhas))\n",
    "\n",
    "            pdb.close()\n",
    "            \n",
    "            if not os.path.isdir(dir_base+'pdbs/'+pasta):\n",
    "                mkdir(dir_base+'pdbs/'+pasta)\n",
    "            \n",
    "            if (len(peptideo)!=0 and len(proteina)!=0):\n",
    "                shutil.move(os.path.join(dir_base,'interfaces',pasta,file),os.path.join(dir_base,'pdbs',pasta,file))\n",
    "    \n",
    "    return"
   ]
  },
  {
   "cell_type": "code",
   "execution_count": 15,
   "id": "8046b8e4",
   "metadata": {},
   "outputs": [],
   "source": [
    "def classificar_complexos_sc1():\n",
    "    \n",
    "    interfaces = listdir(dir_base+'complexos/')\n",
    "        \n",
    "    df = pd.read_csv(dir_base+'dados_experimento_1_cutoff_0_2_max_20.csv')\n",
    "    \n",
    "    for i in range(df[df.columns[0]].count()-1):\n",
    "        \n",
    "        classe = df[df.columns[0]][i].split('/')[1]\n",
    "        peptideo = (df[df.columns[0]][i].split('/')[2]).split('.')[0]\n",
    "        \n",
    "        if not os.path.isdir(dir_base+'interfaces/'+classe):\n",
    "            mkdir(dir_base+'interfaces/'+classe)\n",
    "        \n",
    "        files = list(filter(lambda x: peptideo in x, interfaces))\n",
    "\n",
    "        for f in files:\n",
    "            if os.path.isfile(os.path.join(dir_base,'complexos',f)):\n",
    "                shutil.move(os.path.join(dir_base,'complexos',f), os.path.join(dir_base,'interfaces',classe,f))\n",
    "                interfaces.remove(f)\n",
    "    \n",
    "    return"
   ]
  },
  {
   "cell_type": "code",
   "execution_count": null,
   "id": "4afad88e",
   "metadata": {},
   "outputs": [],
   "source": [
    "def classificar_complexos_sc2():\n",
    "    \n",
    "    interfaces = listdir(dir_base+'complexos/')\n",
    "        \n",
    "    df = pd.read_csv(dir_base+'dados_experimento_2_cutoff_0_2_max_20.csv')\n",
    "    \n",
    "    for i in range(df.cluster.count()-1):\n",
    "\n",
    "        classe = df['cluster'][i]\n",
    "        peptideo = df['peptide'][i].split(' ')[1].replace('(','').replace(')','').replace(':','_')\n",
    "\n",
    "        if not os.path.isdir(dir_base+'interfaces/'+classe):\n",
    "            mkdir(dir_base+'interfaces/'+classe)\n",
    "\n",
    "        files = list(filter(lambda x: peptideo in x, interfaces))\n",
    "\n",
    "        for f in files:\n",
    "            if os.path.isfile(os.path.join(dir_base,'complexos',f)):\n",
    "                shutil.move(os.path.join(dir_base,'complexos',f),os.path.join(dir_base,'interfaces',classe,f))\n",
    "                interfaces.remove(f)\n",
    "    \n",
    "    return"
   ]
  },
  {
   "cell_type": "code",
   "execution_count": 16,
   "id": "e2b20c60",
   "metadata": {
    "scrolled": true
   },
   "outputs": [],
   "source": [
    "classificar_complexos_sc1()"
   ]
  },
  {
   "cell_type": "code",
   "execution_count": null,
   "id": "d82182f3",
   "metadata": {},
   "outputs": [],
   "source": [
    "# classificar_complexos_sc2()"
   ]
  },
  {
   "cell_type": "code",
   "execution_count": 17,
   "id": "1836f789",
   "metadata": {},
   "outputs": [],
   "source": [
    "selecionar_interfaces()"
   ]
  },
  {
   "cell_type": "code",
   "execution_count": 45,
   "id": "47fd7bdf",
   "metadata": {},
   "outputs": [],
   "source": [
    "ler_coordenadas()"
   ]
  },
  {
   "cell_type": "code",
   "execution_count": 46,
   "id": "94d30faa",
   "metadata": {},
   "outputs": [],
   "source": [
    "resize_maps()"
   ]
  },
  {
   "cell_type": "code",
   "execution_count": 20,
   "id": "0e1837cf",
   "metadata": {},
   "outputs": [],
   "source": [
    "data_augmentation()"
   ]
  },
  {
   "cell_type": "code",
   "execution_count": 77,
   "id": "88fdd10c",
   "metadata": {
    "scrolled": true
   },
   "outputs": [
    {
     "data": {
      "image/png": "[encoded data removed]",
      "text/plain": [
       "<Figure size 640x480 with 1 Axes>"
      ]
     },
     "metadata": {},
     "output_type": "display_data"
    }
   ],
   "source": [
    "adiciona_padding()"
   ]
  },
  {
   "cell_type": "code",
   "execution_count": null,
   "id": "4e2b774a",
   "metadata": {},
   "outputs": [],
   "source": []
  }
 ],
 "metadata": {
  "kernelspec": {
   "display_name": "Python 3 (ipykernel)",
   "language": "python",
   "name": "python3"
  },
  "language_info": {
   "codemirror_mode": {
    "name": "ipython",
    "version": 3
   },
   "file_extension": ".py",
   "mimetype": "text/x-python",
   "name": "python",
   "nbconvert_exporter": "python",
   "pygments_lexer": "ipython3",
   "version": "3.9.13"
  }
 },
 "nbformat": 4,
 "nbformat_minor": 5
}
