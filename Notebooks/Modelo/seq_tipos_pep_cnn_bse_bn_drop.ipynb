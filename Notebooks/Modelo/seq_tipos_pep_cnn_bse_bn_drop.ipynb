{
  "nbformat": 4,
  "nbformat_minor": 0,
  "metadata": {
    "colab": {
      "provenance": [],
      "machine_shape": "hm"
    },
    "kernelspec": {
      "name": "python3",
      "display_name": "Python 3"
    },
    "language_info": {
      "name": "python"
    },
    "accelerator": "GPU",
    "gpuClass": "premium"
  },
  "cells": [
    {
      "cell_type": "markdown",
      "source": [
        "##### 1.   **Configurações iniciais**"
      ],
      "metadata": {
        "id": "AsV4FZBenVnf"
      }
    },
    {
      "cell_type": "markdown",
      "source": [
        "1.1 Informações sobre a GPU"
      ],
      "metadata": {
        "id": "pnq9qwq0nqO1"
      }
    },
    {
      "cell_type": "code",
      "execution_count": null,
      "metadata": {
        "id": "DW-UHxCcnBZ_"
      },
      "outputs": [],
      "source": [
        "from tensorflow.python.client import device_lib\n",
        "device_lib.list_local_devices()"
      ]
    },
    {
      "cell_type": "markdown",
      "source": [
        "1.2 Memória disponível"
      ],
      "metadata": {
        "id": "xx2mgrF3oX0N"
      }
    },
    {
      "cell_type": "code",
      "source": [
        "from psutil import virtual_memory\n",
        "ram_gb = virtual_memory().total / 1e9\n",
        "print('Your runtime has {:.1f} gigabytes of available RAM\\n'.format(ram_gb))"
      ],
      "metadata": {
        "colab": {
          "base_uri": "https://localhost:8080/"
        },
        "id": "KyP15x48oj0t",
        "outputId": "c3a643af-df54-483e-8c30-56cf04a8cdd8"
      },
      "execution_count": null,
      "outputs": [
        {
          "output_type": "stream",
          "name": "stdout",
          "text": [
            "Your runtime has 89.6 gigabytes of available RAM\n",
            "\n"
          ]
        }
      ]
    },
    {
      "cell_type": "markdown",
      "source": [
        "1.3 Sincronização com o diretório base no Drive"
      ],
      "metadata": {
        "id": "W0tMXsYSovCt"
      }
    },
    {
      "cell_type": "code",
      "source": [
        "from google.colab import drive\n",
        "drive.mount(\"/content/drive\")"
      ],
      "metadata": {
        "colab": {
          "base_uri": "https://localhost:8080/"
        },
        "id": "j0Duu3KKo1B2",
        "outputId": "ad6c8f2c-5468-463c-816d-75e2ec8b1646"
      },
      "execution_count": null,
      "outputs": [
        {
          "output_type": "stream",
          "name": "stdout",
          "text": [
            "Mounted at /content/drive\n"
          ]
        }
      ]
    },
    {
      "cell_type": "markdown",
      "source": [
        "1.4 Definição de variáveis globais"
      ],
      "metadata": {
        "id": "VzAEBh86pHXN"
      }
    },
    {
      "cell_type": "code",
      "source": [
        "# Diretório base no Drive\n",
        "DIR_BASE = \"/content/drive/My Drive/\"\n",
        "\n",
        "# Tamanho e número de canais da imagem\n",
        "INPUT_SHAPE = (64, 64, 3)\n",
        "\n",
        "# Hiperparâmetros de treinamento\n",
        "BATCH_SIZE = 32\n",
        "DROPOUT = 0.5\n",
        "EPOCH = 100\n",
        "LRN_RATE = 0.001"
      ],
      "metadata": {
        "id": "_P8IYkUopGrN"
      },
      "execution_count": null,
      "outputs": []
    },
    {
      "cell_type": "markdown",
      "source": [
        "1.5 Importação de bibliotecas para o ambiente"
      ],
      "metadata": {
        "id": "V5oC65pRpOiu"
      }
    },
    {
      "cell_type": "code",
      "source": [
        "# Bibliotecas para desenvolvimento de redes neurais\n",
        "import tensorflow as tf\n",
        "from tensorflow import keras\n",
        "\n",
        "# Bibliotecas do Keras para processamento de imagem\n",
        "from keras.utils import load_img, img_to_array\n",
        "from keras.preprocessing.image import ImageDataGenerator\n",
        "\n",
        "# Módulos genéricos do Keras para desenvolvimento de Redes Neurais\n",
        "from keras.models import Sequential\n",
        "from keras.models import Model\n",
        "from keras.layers import Dense, Activation\n",
        "from keras.models import load_model\n",
        "\n",
        "# Módulos para Otimização\n",
        "from keras.optimizers import Adam\n",
        "\n",
        "# Módulos para Regularização\n",
        "from keras.layers import BatchNormalization, Dropout\n",
        "\n",
        "# Módulos do Keras específicos para Redes Neurais Convolucionais\n",
        "from keras.layers import Conv2D, MaxPooling2D, Flatten\n",
        "\n",
        "# Bibliotecas para análise de dados e operações matriciais\n",
        "import numpy as np\n",
        "import pandas as pd\n",
        "\n",
        "# Bibliotecas para visualização dos dados\n",
        "import plotly.express as px\n",
        "\n",
        "# Bibliotecas para avaliação de desempenho\n",
        "from sklearn.metrics import confusion_matrix\n",
        "from sklearn.metrics import classification_report"
      ],
      "metadata": {
        "id": "xLN-QVwapVEu"
      },
      "execution_count": null,
      "outputs": []
    },
    {
      "cell_type": "markdown",
      "source": [
        "##### 2.   **Pré-processamento de dados** "
      ],
      "metadata": {
        "id": "re23k_Sfq8e9"
      }
    },
    {
      "cell_type": "code",
      "source": [
        "train_datagen = ImageDataGenerator(\n",
        "                    rescale = 1./255,\n",
        "                    height_shift_range = 0.1,\n",
        "                    width_shift_range = 0.1)\n",
        "\n",
        "val_datagen = ImageDataGenerator(rescale = 1./255)\n",
        "test_datagen = ImageDataGenerator(rescale = 1./255)"
      ],
      "metadata": {
        "id": "-Ps_9XBEruts"
      },
      "execution_count": null,
      "outputs": []
    },
    {
      "cell_type": "markdown",
      "source": [
        "2.2 Conjunto de **Treinamento**"
      ],
      "metadata": {
        "id": "GwO4md3wrlb9"
      }
    },
    {
      "cell_type": "code",
      "source": [
        "train_data = train_datagen.flow_from_directory(\n",
        "    DIR_BASE+'Dataset/BSB2023/Treinamento/sequencia',\n",
        "    target_size = (64, 64),\n",
        "    batch_size = BATCH_SIZE,\n",
        "    class_mode = 'categorical',\n",
        "    shuffle=True,\n",
        "    seed=42\n",
        ")"
      ],
      "metadata": {
        "id": "XUUV7EF6sWXm"
      },
      "execution_count": null,
      "outputs": []
    },
    {
      "cell_type": "markdown",
      "source": [
        "2.3 Conjunto de **Validação**"
      ],
      "metadata": {
        "id": "IGJgyj6isaGW"
      }
    },
    {
      "cell_type": "code",
      "source": [
        "val_data = val_datagen.flow_from_directory(\n",
        "    DIR_BASE+'Dataset/BSB2023/Validacao/sequencia',\n",
        "    target_size = (64, 64),\n",
        "    batch_size = BATCH_SIZE,\n",
        "    class_mode = 'categorical',\n",
        "    shuffle=True,\n",
        "    seed=42\n",
        ")"
      ],
      "metadata": {
        "id": "L3Hdx5NlskLG"
      },
      "execution_count": null,
      "outputs": []
    },
    {
      "cell_type": "markdown",
      "source": [
        "2.4 Conjunto de **Teste**"
      ],
      "metadata": {
        "id": "v5FY5qKrsxFV"
      }
    },
    {
      "cell_type": "code",
      "source": [
        "test_data = test_datagen.flow_from_directory(\n",
        "    DIR_BASE+'Dataset/BSB2023/Teste/sequencia',\n",
        "    target_size = (64, 64),\n",
        "    batch_size = 1,\n",
        "    class_mode = None,\n",
        "    shuffle=False,\n",
        "    seed=42\n",
        ")"
      ],
      "metadata": {
        "id": "YIbeoLsYssH1"
      },
      "execution_count": null,
      "outputs": []
    },
    {
      "cell_type": "markdown",
      "source": [
        "2.5 Verificação da **estrutura dos dados** de entrada"
      ],
      "metadata": {
        "id": "Ave6HHZ7s9WF"
      }
    },
    {
      "cell_type": "code",
      "source": [
        "for image_batch, labels_batch in train_data:\n",
        "  print(\"Estrutura dos dados de entrada:\",image_batch.shape)\n",
        "  break\n",
        "\n",
        "print(\"Classes do problema:\",train_data.class_indices)"
      ],
      "metadata": {
        "id": "7GnYrhyjtD4O"
      },
      "execution_count": null,
      "outputs": []
    },
    {
      "cell_type": "markdown",
      "source": [
        "##### 3.   Desenvolvimento do modelo baseado em **redes neurais convolucionais**"
      ],
      "metadata": {
        "id": "8yP6p_TitFfu"
      }
    },
    {
      "cell_type": "markdown",
      "source": [
        "3.1 Definição da classe miniVGGNet"
      ],
      "metadata": {
        "id": "Cg7rx_j2tZ8O"
      }
    },
    {
      "cell_type": "code",
      "source": [
        "class Model:\n",
        "  @staticmethod\n",
        "  def build(width, height, depth, classes):\n",
        "    model = Sequential()\n",
        "    inputShape = (height, width, depth)\n",
        "    chanDim = -1\n",
        "\n",
        "    # CONV => Activation => CONV => Activation => POOL\n",
        "    model.add(Conv2D(input_shape=INPUT_SHAPE, filters=32, kernel_size=(3, 3), strides=(1, 1), padding=\"same\"))\n",
        "    model.add(BatchNormalization(axis=chanDim))\n",
        "    model.add(Activation(\"relu\"))\n",
        "    model.add(Conv2D(filters=32, kernel_size=(3, 3), strides=(1, 1), padding=\"same\"))\n",
        "    model.add(BatchNormalization(axis=chanDim))\n",
        "    model.add(Activation(\"relu\"))\n",
        "    model.add(MaxPooling2D(pool_size=(2, 2)))\n",
        "    model.add(Dropout(DROPOUT))\n",
        "\n",
        "    # CONV => Activation => CONV => Activation => POOL\n",
        "    model.add(Conv2D(filters=64, kernel_size=(3, 3), strides=(1, 1), padding=\"same\"))\n",
        "    model.add(BatchNormalization(axis=chanDim))\n",
        "    model.add(Activation(\"relu\"))\n",
        "    model.add(Conv2D(filters=64, kernel_size=(3, 3), strides=(1, 1), padding=\"same\"))\n",
        "    model.add(BatchNormalization(axis=chanDim))\n",
        "    model.add(Activation(\"relu\"))\n",
        "    model.add(MaxPooling2D(pool_size=(2, 2)))\n",
        "    model.add(Dropout(DROPOUT))\n",
        "\n",
        "    # Dense Layer\n",
        "    model.add(Flatten())\n",
        "    model.add(Dense(512))\n",
        "    model.add(BatchNormalization(axis=chanDim))\n",
        "    model.add(Activation(\"relu\"))\n",
        "    model.add(Dropout(DROPOUT))\n",
        "\n",
        "    # Softmax classifier\n",
        "    model.add(Dense(classes))\n",
        "    model.add(Activation(\"softmax\"))\n",
        "\n",
        "    return model"
      ],
      "metadata": {
        "id": "xZqhqWK8tXdu"
      },
      "execution_count": null,
      "outputs": []
    },
    {
      "cell_type": "markdown",
      "source": [
        "3.2 Instanciar o modelo"
      ],
      "metadata": {
        "id": "kdWwDqU4yT73"
      }
    },
    {
      "cell_type": "code",
      "source": [
        "model = miniVGGNet.build(width = 64, height = 64, depth = 3, classes=5)"
      ],
      "metadata": {
        "id": "Nr2K0mBfyhJm"
      },
      "execution_count": null,
      "outputs": []
    },
    {
      "cell_type": "markdown",
      "source": [
        "3.3 Sumarização do modelo"
      ],
      "metadata": {
        "id": "jZxFShy2zec-"
      }
    },
    {
      "cell_type": "code",
      "source": [
        "model.summary()"
      ],
      "metadata": {
        "id": "X1qGoFz2y7TW"
      },
      "execution_count": null,
      "outputs": []
    },
    {
      "cell_type": "markdown",
      "source": [
        "3.4 Compilação do modelo"
      ],
      "metadata": {
        "id": "JN4SDdXMz3q1"
      }
    },
    {
      "cell_type": "code",
      "source": [
        "# Otimizador\n",
        "OPT = Adam(learning_rate=LRN_RATE, beta_1=0.9, beta_2=0.999, epsilon=1e-07)\n",
        "\n",
        "# Compilação\n",
        "model.compile(optimizer= OPT, loss='categorical_crossentropy', metrics=[\"accuracy\"])"
      ],
      "metadata": {
        "id": "1WjK5eo7z3D2"
      },
      "execution_count": null,
      "outputs": []
    },
    {
      "cell_type": "markdown",
      "source": [
        "3.4 **Treinamento**"
      ],
      "metadata": {
        "id": "QKVWQvks0uGG"
      }
    },
    {
      "cell_type": "code",
      "source": [
        "history = model.fit(train_data, epochs=EPOCH, validation_data=val_data)\n",
        "\n",
        "# Salva o modelo ao final do processo de treinamento\n",
        "model.save(DIR_BASE+'Modelos/sequencia_64_64_1e-03_05_100_20230422.h5')"
      ],
      "metadata": {
        "id": "l7bBIaGV0tkl"
      },
      "execution_count": null,
      "outputs": []
    },
    {
      "cell_type": "markdown",
      "source": [
        "##### 4.   Avaliação de Desempenho"
      ],
      "metadata": {
        "id": "iAAvzuIko5O-"
      }
    },
    {
      "cell_type": "markdown",
      "source": [
        "4.1 Importar o modelo previamente treinado"
      ],
      "metadata": {
        "id": "MCc10-7XaG0X"
      }
    },
    {
      "cell_type": "code",
      "source": [
        "model = load_model(DIR_BASE+'Modelos/sequencia_64_64_1e-03_05_100_20230422.h5')"
      ],
      "metadata": {
        "id": "8diHuLctaLcM"
      },
      "execution_count": null,
      "outputs": []
    },
    {
      "cell_type": "markdown",
      "source": [
        "4.2 **Predição** das amostras de teste"
      ],
      "metadata": {
        "id": "b8yQELb_asTY"
      }
    },
    {
      "cell_type": "code",
      "source": [
        "test_data.reset()\n",
        "probabilidades = model.predict(test_data, verbose=1)"
      ],
      "metadata": {
        "id": "juiY_v6N6RKS"
      },
      "execution_count": null,
      "outputs": []
    },
    {
      "cell_type": "markdown",
      "source": [
        "4.3 Obtenção dos rótulos preditos e verdadeiros para cada amostra do conjunto de teste"
      ],
      "metadata": {
        "id": "ddhWFOx-eFaH"
      }
    },
    {
      "cell_type": "code",
      "source": [
        "predicoes = []\n",
        "num_amostras_teste = 200\n",
        "\n",
        "for i in range(num_amostras_teste):\n",
        "  lista = list(probabilidades[i])\n",
        "  classe_predita = lista.index(max(lista))\n",
        "  predicoes.append(classe_predita)\n",
        "\n",
        "predito = np.array(predicoes)\n",
        "\n",
        "# Definição dos rótulos verdadeiros para cada amostra\n",
        "\n",
        "s0 = np.full(40,0)\n",
        "s1 = np.full(40,1)\n",
        "s112 = np.full(40,2)\n",
        "s151 = np.full(40,3)\n",
        "s162 = np.full(40,4)\n",
        "\n",
        "verdade = np.concatenate((s0,s1,s112,s151,s162))"
      ],
      "metadata": {
        "id": "JrbjgUzCa4l7"
      },
      "execution_count": null,
      "outputs": []
    },
    {
      "cell_type": "markdown",
      "source": [
        "4.4 **Métricas** de Desempenho"
      ],
      "metadata": {
        "id": "2aX3QzoeeZ5F"
      }
    },
    {
      "cell_type": "code",
      "source": [
        "print(classification_report(verdade, predito, labels=[0,1,2,3,4]))"
      ],
      "metadata": {
        "id": "iKVcyfDVGwWt"
      },
      "execution_count": null,
      "outputs": []
    },
    {
      "cell_type": "markdown",
      "source": [
        "4.5 Matriz de Confusão (*confusion matrix*, CM)"
      ],
      "metadata": {
        "id": "aR20McRgfriN"
      }
    },
    {
      "cell_type": "code",
      "source": [
        "cm = confusion_matrix(verdade, predito, labels=[0,1,2,3,4])"
      ],
      "metadata": {
        "id": "S8sGQp1tFXEO"
      },
      "execution_count": null,
      "outputs": []
    },
    {
      "cell_type": "markdown",
      "source": [
        "4.6 Visualização da matriz de confusão"
      ],
      "metadata": {
        "id": "GICFJW3i0Bo_"
      }
    },
    {
      "cell_type": "code",
      "source": [
        "cm = cm[::-1]\n",
        "x = ['s0', 's1', 's112', 's151', 's162']\n",
        "y = ['s0', 's1', 's112', 's151', 's162']\n",
        "\n",
        "cm_text = [[str(y) for y in x] for x in cm]"
      ],
      "metadata": {
        "id": "8g0hGCnl3tG5"
      },
      "execution_count": null,
      "outputs": []
    },
    {
      "cell_type": "code",
      "source": [
        "fig = px.imshow(cm, x=x, y=y, color_continuous_scale='Viridis', aspect=\"auto\")\n",
        "\n",
        "fig.update_traces(text=cm_text, texttemplate=\"%{text}\")\n",
        "fig.update_xaxes(side=\"top\")\n",
        "fig.update_layout(width = 450, height = 450)\n",
        "fig.show()"
      ],
      "metadata": {
        "colab": {
          "base_uri": "https://localhost:8080/",
          "height": 467
        },
        "id": "YD2xL9jB5uJI",
        "outputId": "45e5c645-206e-4515-aad5-95a8fe782a08"
      },
      "execution_count": null,
      "outputs": [
        {
          "output_type": "display_data",
          "data": {
            "text/html": [
              "<html>\n",
              "<head><meta charset=\"utf-8\" /></head>\n",
              "<body>\n",
              "    <div>            <script src=\"https://cdnjs.cloudflare.com/ajax/libs/mathjax/2.7.5/MathJax.js?config=TeX-AMS-MML_SVG\"></script><script type=\"text/javascript\">if (window.MathJax && window.MathJax.Hub && window.MathJax.Hub.Config) {window.MathJax.Hub.Config({SVG: {font: \"STIX-Web\"}});}</script>                <script type=\"text/javascript\">window.PlotlyConfig = {MathJaxConfig: 'local'};</script>\n",
              "        <script src=\"https://cdn.plot.ly/plotly-2.18.2.min.js\"></script>                <div id=\"fdbc1088-f8ed-437c-8dc3-9164ce95517e\" class=\"plotly-graph-div\" style=\"height:450px; width:450px;\"></div>            <script type=\"text/javascript\">                                    window.PLOTLYENV=window.PLOTLYENV || {};                                    if (document.getElementById(\"fdbc1088-f8ed-437c-8dc3-9164ce95517e\")) {                    Plotly.newPlot(                        \"fdbc1088-f8ed-437c-8dc3-9164ce95517e\",                        [{\"coloraxis\":\"coloraxis\",\"name\":\"0\",\"x\":[\"s0\",\"s1\",\"s112\",\"s151\",\"s162\"],\"y\":[\"s0\",\"s1\",\"s112\",\"s151\",\"s162\"],\"z\":[[39,0,1,0,0],[5,35,0,0,0],[3,0,37,0,0],[0,0,0,33,7],[0,0,0,2,38]],\"type\":\"heatmap\",\"xaxis\":\"x\",\"yaxis\":\"y\",\"hovertemplate\":\"x: %{x}<br>y: %{y}<br>color: %{z}<extra></extra>\",\"text\":[[\"39\",\"0\",\"1\",\"0\",\"0\"],[\"5\",\"35\",\"0\",\"0\",\"0\"],[\"3\",\"0\",\"37\",\"0\",\"0\"],[\"0\",\"0\",\"0\",\"33\",\"7\"],[\"0\",\"0\",\"0\",\"2\",\"38\"]],\"texttemplate\":\"%{text}\"}],                        {\"template\":{\"data\":{\"histogram2dcontour\":[{\"type\":\"histogram2dcontour\",\"colorbar\":{\"outlinewidth\":0,\"ticks\":\"\"},\"colorscale\":[[0.0,\"#0d0887\"],[0.1111111111111111,\"#46039f\"],[0.2222222222222222,\"#7201a8\"],[0.3333333333333333,\"#9c179e\"],[0.4444444444444444,\"#bd3786\"],[0.5555555555555556,\"#d8576b\"],[0.6666666666666666,\"#ed7953\"],[0.7777777777777778,\"#fb9f3a\"],[0.8888888888888888,\"#fdca26\"],[1.0,\"#f0f921\"]]}],\"choropleth\":[{\"type\":\"choropleth\",\"colorbar\":{\"outlinewidth\":0,\"ticks\":\"\"}}],\"histogram2d\":[{\"type\":\"histogram2d\",\"colorbar\":{\"outlinewidth\":0,\"ticks\":\"\"},\"colorscale\":[[0.0,\"#0d0887\"],[0.1111111111111111,\"#46039f\"],[0.2222222222222222,\"#7201a8\"],[0.3333333333333333,\"#9c179e\"],[0.4444444444444444,\"#bd3786\"],[0.5555555555555556,\"#d8576b\"],[0.6666666666666666,\"#ed7953\"],[0.7777777777777778,\"#fb9f3a\"],[0.8888888888888888,\"#fdca26\"],[1.0,\"#f0f921\"]]}],\"heatmap\":[{\"type\":\"heatmap\",\"colorbar\":{\"outlinewidth\":0,\"ticks\":\"\"},\"colorscale\":[[0.0,\"#0d0887\"],[0.1111111111111111,\"#46039f\"],[0.2222222222222222,\"#7201a8\"],[0.3333333333333333,\"#9c179e\"],[0.4444444444444444,\"#bd3786\"],[0.5555555555555556,\"#d8576b\"],[0.6666666666666666,\"#ed7953\"],[0.7777777777777778,\"#fb9f3a\"],[0.8888888888888888,\"#fdca26\"],[1.0,\"#f0f921\"]]}],\"heatmapgl\":[{\"type\":\"heatmapgl\",\"colorbar\":{\"outlinewidth\":0,\"ticks\":\"\"},\"colorscale\":[[0.0,\"#0d0887\"],[0.1111111111111111,\"#46039f\"],[0.2222222222222222,\"#7201a8\"],[0.3333333333333333,\"#9c179e\"],[0.4444444444444444,\"#bd3786\"],[0.5555555555555556,\"#d8576b\"],[0.6666666666666666,\"#ed7953\"],[0.7777777777777778,\"#fb9f3a\"],[0.8888888888888888,\"#fdca26\"],[1.0,\"#f0f921\"]]}],\"contourcarpet\":[{\"type\":\"contourcarpet\",\"colorbar\":{\"outlinewidth\":0,\"ticks\":\"\"}}],\"contour\":[{\"type\":\"contour\",\"colorbar\":{\"outlinewidth\":0,\"ticks\":\"\"},\"colorscale\":[[0.0,\"#0d0887\"],[0.1111111111111111,\"#46039f\"],[0.2222222222222222,\"#7201a8\"],[0.3333333333333333,\"#9c179e\"],[0.4444444444444444,\"#bd3786\"],[0.5555555555555556,\"#d8576b\"],[0.6666666666666666,\"#ed7953\"],[0.7777777777777778,\"#fb9f3a\"],[0.8888888888888888,\"#fdca26\"],[1.0,\"#f0f921\"]]}],\"surface\":[{\"type\":\"surface\",\"colorbar\":{\"outlinewidth\":0,\"ticks\":\"\"},\"colorscale\":[[0.0,\"#0d0887\"],[0.1111111111111111,\"#46039f\"],[0.2222222222222222,\"#7201a8\"],[0.3333333333333333,\"#9c179e\"],[0.4444444444444444,\"#bd3786\"],[0.5555555555555556,\"#d8576b\"],[0.6666666666666666,\"#ed7953\"],[0.7777777777777778,\"#fb9f3a\"],[0.8888888888888888,\"#fdca26\"],[1.0,\"#f0f921\"]]}],\"mesh3d\":[{\"type\":\"mesh3d\",\"colorbar\":{\"outlinewidth\":0,\"ticks\":\"\"}}],\"scatter\":[{\"fillpattern\":{\"fillmode\":\"overlay\",\"size\":10,\"solidity\":0.2},\"type\":\"scatter\"}],\"parcoords\":[{\"type\":\"parcoords\",\"line\":{\"colorbar\":{\"outlinewidth\":0,\"ticks\":\"\"}}}],\"scatterpolargl\":[{\"type\":\"scatterpolargl\",\"marker\":{\"colorbar\":{\"outlinewidth\":0,\"ticks\":\"\"}}}],\"bar\":[{\"error_x\":{\"color\":\"#2a3f5f\"},\"error_y\":{\"color\":\"#2a3f5f\"},\"marker\":{\"line\":{\"color\":\"#E5ECF6\",\"width\":0.5},\"pattern\":{\"fillmode\":\"overlay\",\"size\":10,\"solidity\":0.2}},\"type\":\"bar\"}],\"scattergeo\":[{\"type\":\"scattergeo\",\"marker\":{\"colorbar\":{\"outlinewidth\":0,\"ticks\":\"\"}}}],\"scatterpolar\":[{\"type\":\"scatterpolar\",\"marker\":{\"colorbar\":{\"outlinewidth\":0,\"ticks\":\"\"}}}],\"histogram\":[{\"marker\":{\"pattern\":{\"fillmode\":\"overlay\",\"size\":10,\"solidity\":0.2}},\"type\":\"histogram\"}],\"scattergl\":[{\"type\":\"scattergl\",\"marker\":{\"colorbar\":{\"outlinewidth\":0,\"ticks\":\"\"}}}],\"scatter3d\":[{\"type\":\"scatter3d\",\"line\":{\"colorbar\":{\"outlinewidth\":0,\"ticks\":\"\"}},\"marker\":{\"colorbar\":{\"outlinewidth\":0,\"ticks\":\"\"}}}],\"scattermapbox\":[{\"type\":\"scattermapbox\",\"marker\":{\"colorbar\":{\"outlinewidth\":0,\"ticks\":\"\"}}}],\"scatterternary\":[{\"type\":\"scatterternary\",\"marker\":{\"colorbar\":{\"outlinewidth\":0,\"ticks\":\"\"}}}],\"scattercarpet\":[{\"type\":\"scattercarpet\",\"marker\":{\"colorbar\":{\"outlinewidth\":0,\"ticks\":\"\"}}}],\"carpet\":[{\"aaxis\":{\"endlinecolor\":\"#2a3f5f\",\"gridcolor\":\"white\",\"linecolor\":\"white\",\"minorgridcolor\":\"white\",\"startlinecolor\":\"#2a3f5f\"},\"baxis\":{\"endlinecolor\":\"#2a3f5f\",\"gridcolor\":\"white\",\"linecolor\":\"white\",\"minorgridcolor\":\"white\",\"startlinecolor\":\"#2a3f5f\"},\"type\":\"carpet\"}],\"table\":[{\"cells\":{\"fill\":{\"color\":\"#EBF0F8\"},\"line\":{\"color\":\"white\"}},\"header\":{\"fill\":{\"color\":\"#C8D4E3\"},\"line\":{\"color\":\"white\"}},\"type\":\"table\"}],\"barpolar\":[{\"marker\":{\"line\":{\"color\":\"#E5ECF6\",\"width\":0.5},\"pattern\":{\"fillmode\":\"overlay\",\"size\":10,\"solidity\":0.2}},\"type\":\"barpolar\"}],\"pie\":[{\"automargin\":true,\"type\":\"pie\"}]},\"layout\":{\"autotypenumbers\":\"strict\",\"colorway\":[\"#636efa\",\"#EF553B\",\"#00cc96\",\"#ab63fa\",\"#FFA15A\",\"#19d3f3\",\"#FF6692\",\"#B6E880\",\"#FF97FF\",\"#FECB52\"],\"font\":{\"color\":\"#2a3f5f\"},\"hovermode\":\"closest\",\"hoverlabel\":{\"align\":\"left\"},\"paper_bgcolor\":\"white\",\"plot_bgcolor\":\"#E5ECF6\",\"polar\":{\"bgcolor\":\"#E5ECF6\",\"angularaxis\":{\"gridcolor\":\"white\",\"linecolor\":\"white\",\"ticks\":\"\"},\"radialaxis\":{\"gridcolor\":\"white\",\"linecolor\":\"white\",\"ticks\":\"\"}},\"ternary\":{\"bgcolor\":\"#E5ECF6\",\"aaxis\":{\"gridcolor\":\"white\",\"linecolor\":\"white\",\"ticks\":\"\"},\"baxis\":{\"gridcolor\":\"white\",\"linecolor\":\"white\",\"ticks\":\"\"},\"caxis\":{\"gridcolor\":\"white\",\"linecolor\":\"white\",\"ticks\":\"\"}},\"coloraxis\":{\"colorbar\":{\"outlinewidth\":0,\"ticks\":\"\"}},\"colorscale\":{\"sequential\":[[0.0,\"#0d0887\"],[0.1111111111111111,\"#46039f\"],[0.2222222222222222,\"#7201a8\"],[0.3333333333333333,\"#9c179e\"],[0.4444444444444444,\"#bd3786\"],[0.5555555555555556,\"#d8576b\"],[0.6666666666666666,\"#ed7953\"],[0.7777777777777778,\"#fb9f3a\"],[0.8888888888888888,\"#fdca26\"],[1.0,\"#f0f921\"]],\"sequentialminus\":[[0.0,\"#0d0887\"],[0.1111111111111111,\"#46039f\"],[0.2222222222222222,\"#7201a8\"],[0.3333333333333333,\"#9c179e\"],[0.4444444444444444,\"#bd3786\"],[0.5555555555555556,\"#d8576b\"],[0.6666666666666666,\"#ed7953\"],[0.7777777777777778,\"#fb9f3a\"],[0.8888888888888888,\"#fdca26\"],[1.0,\"#f0f921\"]],\"diverging\":[[0,\"#8e0152\"],[0.1,\"#c51b7d\"],[0.2,\"#de77ae\"],[0.3,\"#f1b6da\"],[0.4,\"#fde0ef\"],[0.5,\"#f7f7f7\"],[0.6,\"#e6f5d0\"],[0.7,\"#b8e186\"],[0.8,\"#7fbc41\"],[0.9,\"#4d9221\"],[1,\"#276419\"]]},\"xaxis\":{\"gridcolor\":\"white\",\"linecolor\":\"white\",\"ticks\":\"\",\"title\":{\"standoff\":15},\"zerolinecolor\":\"white\",\"automargin\":true,\"zerolinewidth\":2},\"yaxis\":{\"gridcolor\":\"white\",\"linecolor\":\"white\",\"ticks\":\"\",\"title\":{\"standoff\":15},\"zerolinecolor\":\"white\",\"automargin\":true,\"zerolinewidth\":2},\"scene\":{\"xaxis\":{\"backgroundcolor\":\"#E5ECF6\",\"gridcolor\":\"white\",\"linecolor\":\"white\",\"showbackground\":true,\"ticks\":\"\",\"zerolinecolor\":\"white\",\"gridwidth\":2},\"yaxis\":{\"backgroundcolor\":\"#E5ECF6\",\"gridcolor\":\"white\",\"linecolor\":\"white\",\"showbackground\":true,\"ticks\":\"\",\"zerolinecolor\":\"white\",\"gridwidth\":2},\"zaxis\":{\"backgroundcolor\":\"#E5ECF6\",\"gridcolor\":\"white\",\"linecolor\":\"white\",\"showbackground\":true,\"ticks\":\"\",\"zerolinecolor\":\"white\",\"gridwidth\":2}},\"shapedefaults\":{\"line\":{\"color\":\"#2a3f5f\"}},\"annotationdefaults\":{\"arrowcolor\":\"#2a3f5f\",\"arrowhead\":0,\"arrowwidth\":1},\"geo\":{\"bgcolor\":\"white\",\"landcolor\":\"#E5ECF6\",\"subunitcolor\":\"white\",\"showland\":true,\"showlakes\":true,\"lakecolor\":\"white\"},\"title\":{\"x\":0.05},\"mapbox\":{\"style\":\"light\"}}},\"xaxis\":{\"anchor\":\"y\",\"domain\":[0.0,1.0],\"side\":\"top\"},\"yaxis\":{\"anchor\":\"x\",\"domain\":[0.0,1.0],\"autorange\":\"reversed\"},\"coloraxis\":{\"colorscale\":[[0.0,\"#440154\"],[0.1111111111111111,\"#482878\"],[0.2222222222222222,\"#3e4989\"],[0.3333333333333333,\"#31688e\"],[0.4444444444444444,\"#26828e\"],[0.5555555555555556,\"#1f9e89\"],[0.6666666666666666,\"#35b779\"],[0.7777777777777778,\"#6ece58\"],[0.8888888888888888,\"#b5de2b\"],[1.0,\"#fde725\"]]},\"margin\":{\"t\":60},\"width\":450,\"height\":450},                        {\"responsive\": true}                    ).then(function(){\n",
              "                            \n",
              "var gd = document.getElementById('fdbc1088-f8ed-437c-8dc3-9164ce95517e');\n",
              "var x = new MutationObserver(function (mutations, observer) {{\n",
              "        var display = window.getComputedStyle(gd).display;\n",
              "        if (!display || display === 'none') {{\n",
              "            console.log([gd, 'removed!']);\n",
              "            Plotly.purge(gd);\n",
              "            observer.disconnect();\n",
              "        }}\n",
              "}});\n",
              "\n",
              "// Listen for the removal of the full notebook cells\n",
              "var notebookContainer = gd.closest('#notebook-container');\n",
              "if (notebookContainer) {{\n",
              "    x.observe(notebookContainer, {childList: true});\n",
              "}}\n",
              "\n",
              "// Listen for the clearing of the current output cell\n",
              "var outputEl = gd.closest('.output');\n",
              "if (outputEl) {{\n",
              "    x.observe(outputEl, {childList: true});\n",
              "}}\n",
              "\n",
              "                        })                };                            </script>        </div>\n",
              "</body>\n",
              "</html>"
            ]
          },
          "metadata": {}
        }
      ]
    },
    {
      "cell_type": "markdown",
      "source": [
        "\n",
        "\n",
        "---\n",
        "\n"
      ],
      "metadata": {
        "id": "GiSbRO-HXAL8"
      }
    }
  ]
}